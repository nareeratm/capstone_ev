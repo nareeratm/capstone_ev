{
 "cells": [
  {
   "cell_type": "code",
   "execution_count": 1,
   "id": "26f44d10-7d2c-4932-86f0-cbb2a24aa534",
   "metadata": {},
   "outputs": [],
   "source": [
    "## Imports\n",
    "import pandas as pd \n",
    "import numpy as np\n",
    "import seaborn as sns\n",
    "import matplotlib.pyplot as plt"
   ]
  },
  {
   "cell_type": "code",
   "execution_count": 3,
   "id": "a9439cbc-9f88-42ec-a30b-a61a4e2fa934",
   "metadata": {},
   "outputs": [],
   "source": [
    "#electricity price\n",
    "e_price = pd.read_csv('./data/e_price.csv')"
   ]
  },
  {
   "cell_type": "code",
   "execution_count": 5,
   "id": "e16bbb96-3dfa-4db5-9253-f5a71f4a27b5",
   "metadata": {},
   "outputs": [
    {
     "data": {
      "text/html": [
       "<div>\n",
       "<style scoped>\n",
       "    .dataframe tbody tr th:only-of-type {\n",
       "        vertical-align: middle;\n",
       "    }\n",
       "\n",
       "    .dataframe tbody tr th {\n",
       "        vertical-align: top;\n",
       "    }\n",
       "\n",
       "    .dataframe thead th {\n",
       "        text-align: right;\n",
       "    }\n",
       "</style>\n",
       "<table border=\"1\" class=\"dataframe\">\n",
       "  <thead>\n",
       "    <tr style=\"text-align: right;\">\n",
       "      <th></th>\n",
       "      <th>time</th>\n",
       "      <th>1001</th>\n",
       "      <th>1002</th>\n",
       "      <th>1003</th>\n",
       "      <th>1004</th>\n",
       "      <th>1005</th>\n",
       "      <th>1006</th>\n",
       "      <th>1007</th>\n",
       "      <th>1008</th>\n",
       "      <th>1009</th>\n",
       "      <th>...</th>\n",
       "      <th>2673</th>\n",
       "      <th>2674</th>\n",
       "      <th>2675</th>\n",
       "      <th>2676</th>\n",
       "      <th>2677</th>\n",
       "      <th>2678</th>\n",
       "      <th>2679</th>\n",
       "      <th>2680</th>\n",
       "      <th>2681</th>\n",
       "      <th>2682</th>\n",
       "    </tr>\n",
       "  </thead>\n",
       "  <tbody>\n",
       "    <tr>\n",
       "      <th>0</th>\n",
       "      <td>2022-09-01 00:00:00</td>\n",
       "      <td>1.2</td>\n",
       "      <td>1.0</td>\n",
       "      <td>1.1</td>\n",
       "      <td>0.32</td>\n",
       "      <td>0.6015</td>\n",
       "      <td>0.2962</td>\n",
       "      <td>0.3041</td>\n",
       "      <td>1.0</td>\n",
       "      <td>0.3067</td>\n",
       "      <td>...</td>\n",
       "      <td>0.7</td>\n",
       "      <td>0.34</td>\n",
       "      <td>0.35</td>\n",
       "      <td>0.72</td>\n",
       "      <td>0.72</td>\n",
       "      <td>0.0</td>\n",
       "      <td>0.72</td>\n",
       "      <td>0.72</td>\n",
       "      <td>1.0</td>\n",
       "      <td>1.05</td>\n",
       "    </tr>\n",
       "    <tr>\n",
       "      <th>1</th>\n",
       "      <td>2022-09-01 01:00:00</td>\n",
       "      <td>1.2</td>\n",
       "      <td>1.0</td>\n",
       "      <td>1.1</td>\n",
       "      <td>0.32</td>\n",
       "      <td>0.3314</td>\n",
       "      <td>0.2962</td>\n",
       "      <td>0.3015</td>\n",
       "      <td>1.0</td>\n",
       "      <td>0.3067</td>\n",
       "      <td>...</td>\n",
       "      <td>0.7</td>\n",
       "      <td>0.34</td>\n",
       "      <td>0.35</td>\n",
       "      <td>0.72</td>\n",
       "      <td>0.72</td>\n",
       "      <td>0.0</td>\n",
       "      <td>0.72</td>\n",
       "      <td>0.72</td>\n",
       "      <td>1.0</td>\n",
       "      <td>1.05</td>\n",
       "    </tr>\n",
       "    <tr>\n",
       "      <th>2</th>\n",
       "      <td>2022-09-01 02:00:00</td>\n",
       "      <td>1.2</td>\n",
       "      <td>1.0</td>\n",
       "      <td>1.1</td>\n",
       "      <td>0.32</td>\n",
       "      <td>0.3200</td>\n",
       "      <td>0.2962</td>\n",
       "      <td>0.2990</td>\n",
       "      <td>1.0</td>\n",
       "      <td>0.3067</td>\n",
       "      <td>...</td>\n",
       "      <td>0.7</td>\n",
       "      <td>0.34</td>\n",
       "      <td>0.35</td>\n",
       "      <td>0.72</td>\n",
       "      <td>0.72</td>\n",
       "      <td>0.0</td>\n",
       "      <td>0.72</td>\n",
       "      <td>0.72</td>\n",
       "      <td>1.0</td>\n",
       "      <td>1.05</td>\n",
       "    </tr>\n",
       "    <tr>\n",
       "      <th>3</th>\n",
       "      <td>2022-09-01 03:00:00</td>\n",
       "      <td>1.2</td>\n",
       "      <td>1.0</td>\n",
       "      <td>1.1</td>\n",
       "      <td>0.32</td>\n",
       "      <td>0.3200</td>\n",
       "      <td>0.2962</td>\n",
       "      <td>0.2990</td>\n",
       "      <td>1.0</td>\n",
       "      <td>0.3067</td>\n",
       "      <td>...</td>\n",
       "      <td>0.7</td>\n",
       "      <td>0.34</td>\n",
       "      <td>0.35</td>\n",
       "      <td>0.72</td>\n",
       "      <td>0.72</td>\n",
       "      <td>0.0</td>\n",
       "      <td>0.72</td>\n",
       "      <td>0.72</td>\n",
       "      <td>1.0</td>\n",
       "      <td>1.05</td>\n",
       "    </tr>\n",
       "    <tr>\n",
       "      <th>4</th>\n",
       "      <td>2022-09-01 04:00:00</td>\n",
       "      <td>1.2</td>\n",
       "      <td>1.0</td>\n",
       "      <td>1.1</td>\n",
       "      <td>0.32</td>\n",
       "      <td>0.3200</td>\n",
       "      <td>0.2962</td>\n",
       "      <td>0.2990</td>\n",
       "      <td>1.0</td>\n",
       "      <td>0.3067</td>\n",
       "      <td>...</td>\n",
       "      <td>0.7</td>\n",
       "      <td>0.34</td>\n",
       "      <td>0.35</td>\n",
       "      <td>0.72</td>\n",
       "      <td>0.72</td>\n",
       "      <td>0.0</td>\n",
       "      <td>0.72</td>\n",
       "      <td>0.72</td>\n",
       "      <td>1.0</td>\n",
       "      <td>1.05</td>\n",
       "    </tr>\n",
       "  </tbody>\n",
       "</table>\n",
       "<p>5 rows × 1683 columns</p>\n",
       "</div>"
      ],
      "text/plain": [
       "                  time  1001  1002  1003  1004    1005    1006    1007  1008  \\\n",
       "0  2022-09-01 00:00:00   1.2   1.0   1.1  0.32  0.6015  0.2962  0.3041   1.0   \n",
       "1  2022-09-01 01:00:00   1.2   1.0   1.1  0.32  0.3314  0.2962  0.3015   1.0   \n",
       "2  2022-09-01 02:00:00   1.2   1.0   1.1  0.32  0.3200  0.2962  0.2990   1.0   \n",
       "3  2022-09-01 03:00:00   1.2   1.0   1.1  0.32  0.3200  0.2962  0.2990   1.0   \n",
       "4  2022-09-01 04:00:00   1.2   1.0   1.1  0.32  0.3200  0.2962  0.2990   1.0   \n",
       "\n",
       "     1009  ...  2673  2674  2675  2676  2677  2678  2679  2680  2681  2682  \n",
       "0  0.3067  ...   0.7  0.34  0.35  0.72  0.72   0.0  0.72  0.72   1.0  1.05  \n",
       "1  0.3067  ...   0.7  0.34  0.35  0.72  0.72   0.0  0.72  0.72   1.0  1.05  \n",
       "2  0.3067  ...   0.7  0.34  0.35  0.72  0.72   0.0  0.72  0.72   1.0  1.05  \n",
       "3  0.3067  ...   0.7  0.34  0.35  0.72  0.72   0.0  0.72  0.72   1.0  1.05  \n",
       "4  0.3067  ...   0.7  0.34  0.35  0.72  0.72   0.0  0.72  0.72   1.0  1.05  \n",
       "\n",
       "[5 rows x 1683 columns]"
      ]
     },
     "execution_count": 5,
     "metadata": {},
     "output_type": "execute_result"
    }
   ],
   "source": [
    "e_price.head() #hourly electricity price"
   ]
  },
  {
   "cell_type": "code",
   "execution_count": 7,
   "id": "55ff1c47-eeba-4080-a84d-6ec971cd87ee",
   "metadata": {},
   "outputs": [
    {
     "name": "stdout",
     "output_type": "stream",
     "text": [
      "<class 'pandas.core.frame.DataFrame'>\n",
      "RangeIndex: 8760 entries, 0 to 8759\n",
      "Columns: 1683 entries, time to 2682\n",
      "dtypes: float64(1682), object(1)\n",
      "memory usage: 112.5+ MB\n"
     ]
    }
   ],
   "source": [
    "e_price.info()"
   ]
  },
  {
   "cell_type": "markdown",
   "id": "ef1aca3b-9316-4a5b-88b2-09677901aa4e",
   "metadata": {},
   "source": [
    "## Electricity Price Data Dictionary"
   ]
  },
  {
   "cell_type": "markdown",
   "id": "84ef8d3c-3938-4027-804b-605150ac5ab6",
   "metadata": {},
   "source": [
    "The 'electricity price' dataframe is the total price of electricity in Yuan (1 yuan == 5.2 Baht) per each hour of charging."
   ]
  },
  {
   "cell_type": "markdown",
   "id": "11f07006-76b8-4d96-ab1a-d0c3c80562e6",
   "metadata": {},
   "source": [
    "| Variable | Description | Details |\n",
    "|----------|-------------|---------|\n",
    "| time | Time | Year-Month-Day Hour:Minute:Seconds |\n",
    "| 1001-2682 | Station IDs | Charging Station IDs from 1001 to 2682. |"
   ]
  },
  {
   "cell_type": "code",
   "execution_count": null,
   "id": "62c0150c-c150-4e5a-8f5d-782f9103ba6e",
   "metadata": {},
   "outputs": [],
   "source": [
    "# choose a random station (station no. 1009)."
   ]
  },
  {
   "cell_type": "code",
   "execution_count": 9,
   "id": "b223348f-3c28-41bd-a82e-ab1413b28f1d",
   "metadata": {},
   "outputs": [
    {
     "data": {
      "text/html": [
       "<div>\n",
       "<style scoped>\n",
       "    .dataframe tbody tr th:only-of-type {\n",
       "        vertical-align: middle;\n",
       "    }\n",
       "\n",
       "    .dataframe tbody tr th {\n",
       "        vertical-align: top;\n",
       "    }\n",
       "\n",
       "    .dataframe thead th {\n",
       "        text-align: right;\n",
       "    }\n",
       "</style>\n",
       "<table border=\"1\" class=\"dataframe\">\n",
       "  <thead>\n",
       "    <tr style=\"text-align: right;\">\n",
       "      <th></th>\n",
       "      <th>time</th>\n",
       "      <th>1009</th>\n",
       "    </tr>\n",
       "  </thead>\n",
       "  <tbody>\n",
       "    <tr>\n",
       "      <th>0</th>\n",
       "      <td>2022-09-01 00:00:00</td>\n",
       "      <td>0.3067</td>\n",
       "    </tr>\n",
       "    <tr>\n",
       "      <th>1</th>\n",
       "      <td>2022-09-01 01:00:00</td>\n",
       "      <td>0.3067</td>\n",
       "    </tr>\n",
       "    <tr>\n",
       "      <th>2</th>\n",
       "      <td>2022-09-01 02:00:00</td>\n",
       "      <td>0.3067</td>\n",
       "    </tr>\n",
       "    <tr>\n",
       "      <th>3</th>\n",
       "      <td>2022-09-01 03:00:00</td>\n",
       "      <td>0.3067</td>\n",
       "    </tr>\n",
       "    <tr>\n",
       "      <th>4</th>\n",
       "      <td>2022-09-01 04:00:00</td>\n",
       "      <td>0.3067</td>\n",
       "    </tr>\n",
       "  </tbody>\n",
       "</table>\n",
       "</div>"
      ],
      "text/plain": [
       "                  time    1009\n",
       "0  2022-09-01 00:00:00  0.3067\n",
       "1  2022-09-01 01:00:00  0.3067\n",
       "2  2022-09-01 02:00:00  0.3067\n",
       "3  2022-09-01 03:00:00  0.3067\n",
       "4  2022-09-01 04:00:00  0.3067"
      ]
     },
     "execution_count": 9,
     "metadata": {},
     "output_type": "execute_result"
    }
   ],
   "source": [
    "e_price_1009 = e_price[['time', '1009']] #station 1001 electricity price (does it use fixed pricing or dynamic pricing\n",
    "e_price_1009.head()"
   ]
  },
  {
   "cell_type": "code",
   "execution_count": 13,
   "id": "5224369b-f6ff-4eb1-8c17-5b681d862735",
   "metadata": {},
   "outputs": [
    {
     "data": {
      "text/html": [
       "<div>\n",
       "<style scoped>\n",
       "    .dataframe tbody tr th:only-of-type {\n",
       "        vertical-align: middle;\n",
       "    }\n",
       "\n",
       "    .dataframe tbody tr th {\n",
       "        vertical-align: top;\n",
       "    }\n",
       "\n",
       "    .dataframe thead th {\n",
       "        text-align: right;\n",
       "    }\n",
       "</style>\n",
       "<table border=\"1\" class=\"dataframe\">\n",
       "  <thead>\n",
       "    <tr style=\"text-align: right;\">\n",
       "      <th></th>\n",
       "      <th>1001</th>\n",
       "      <th>1002</th>\n",
       "      <th>1003</th>\n",
       "      <th>1004</th>\n",
       "      <th>1005</th>\n",
       "      <th>1006</th>\n",
       "      <th>1007</th>\n",
       "      <th>1008</th>\n",
       "      <th>1009</th>\n",
       "      <th>1010</th>\n",
       "      <th>...</th>\n",
       "      <th>2673</th>\n",
       "      <th>2674</th>\n",
       "      <th>2675</th>\n",
       "      <th>2676</th>\n",
       "      <th>2677</th>\n",
       "      <th>2678</th>\n",
       "      <th>2679</th>\n",
       "      <th>2680</th>\n",
       "      <th>2681</th>\n",
       "      <th>2682</th>\n",
       "    </tr>\n",
       "  </thead>\n",
       "  <tbody>\n",
       "    <tr>\n",
       "      <th>count</th>\n",
       "      <td>8760.0</td>\n",
       "      <td>8760.0</td>\n",
       "      <td>8760.0</td>\n",
       "      <td>8760.00</td>\n",
       "      <td>8760.00</td>\n",
       "      <td>8760.00</td>\n",
       "      <td>8760.00</td>\n",
       "      <td>8760.0</td>\n",
       "      <td>8760.00</td>\n",
       "      <td>8760.00</td>\n",
       "      <td>...</td>\n",
       "      <td>8760.0</td>\n",
       "      <td>8760.00</td>\n",
       "      <td>8760.00</td>\n",
       "      <td>8760.00</td>\n",
       "      <td>8760.00</td>\n",
       "      <td>8760.0</td>\n",
       "      <td>8760.00</td>\n",
       "      <td>8760.00</td>\n",
       "      <td>8760.0</td>\n",
       "      <td>8760.00</td>\n",
       "    </tr>\n",
       "    <tr>\n",
       "      <th>mean</th>\n",
       "      <td>1.2</td>\n",
       "      <td>1.0</td>\n",
       "      <td>1.1</td>\n",
       "      <td>0.74</td>\n",
       "      <td>0.74</td>\n",
       "      <td>0.71</td>\n",
       "      <td>0.70</td>\n",
       "      <td>1.0</td>\n",
       "      <td>0.70</td>\n",
       "      <td>0.65</td>\n",
       "      <td>...</td>\n",
       "      <td>0.7</td>\n",
       "      <td>0.77</td>\n",
       "      <td>0.65</td>\n",
       "      <td>0.72</td>\n",
       "      <td>0.72</td>\n",
       "      <td>0.0</td>\n",
       "      <td>0.72</td>\n",
       "      <td>0.72</td>\n",
       "      <td>1.0</td>\n",
       "      <td>1.05</td>\n",
       "    </tr>\n",
       "    <tr>\n",
       "      <th>std</th>\n",
       "      <td>0.0</td>\n",
       "      <td>0.0</td>\n",
       "      <td>0.0</td>\n",
       "      <td>0.33</td>\n",
       "      <td>0.33</td>\n",
       "      <td>0.32</td>\n",
       "      <td>0.31</td>\n",
       "      <td>0.0</td>\n",
       "      <td>0.33</td>\n",
       "      <td>0.33</td>\n",
       "      <td>...</td>\n",
       "      <td>0.0</td>\n",
       "      <td>0.26</td>\n",
       "      <td>0.24</td>\n",
       "      <td>0.00</td>\n",
       "      <td>0.00</td>\n",
       "      <td>0.0</td>\n",
       "      <td>0.00</td>\n",
       "      <td>0.00</td>\n",
       "      <td>0.0</td>\n",
       "      <td>0.00</td>\n",
       "    </tr>\n",
       "    <tr>\n",
       "      <th>min</th>\n",
       "      <td>1.2</td>\n",
       "      <td>1.0</td>\n",
       "      <td>1.1</td>\n",
       "      <td>0.32</td>\n",
       "      <td>0.32</td>\n",
       "      <td>0.30</td>\n",
       "      <td>0.30</td>\n",
       "      <td>1.0</td>\n",
       "      <td>0.24</td>\n",
       "      <td>0.24</td>\n",
       "      <td>...</td>\n",
       "      <td>0.7</td>\n",
       "      <td>0.34</td>\n",
       "      <td>0.35</td>\n",
       "      <td>0.72</td>\n",
       "      <td>0.72</td>\n",
       "      <td>0.0</td>\n",
       "      <td>0.72</td>\n",
       "      <td>0.72</td>\n",
       "      <td>1.0</td>\n",
       "      <td>1.05</td>\n",
       "    </tr>\n",
       "    <tr>\n",
       "      <th>25%</th>\n",
       "      <td>1.2</td>\n",
       "      <td>1.0</td>\n",
       "      <td>1.1</td>\n",
       "      <td>0.32</td>\n",
       "      <td>0.32</td>\n",
       "      <td>0.30</td>\n",
       "      <td>0.30</td>\n",
       "      <td>1.0</td>\n",
       "      <td>0.31</td>\n",
       "      <td>0.24</td>\n",
       "      <td>...</td>\n",
       "      <td>0.7</td>\n",
       "      <td>0.44</td>\n",
       "      <td>0.35</td>\n",
       "      <td>0.72</td>\n",
       "      <td>0.72</td>\n",
       "      <td>0.0</td>\n",
       "      <td>0.72</td>\n",
       "      <td>0.72</td>\n",
       "      <td>1.0</td>\n",
       "      <td>1.05</td>\n",
       "    </tr>\n",
       "    <tr>\n",
       "      <th>50%</th>\n",
       "      <td>1.2</td>\n",
       "      <td>1.0</td>\n",
       "      <td>1.1</td>\n",
       "      <td>0.79</td>\n",
       "      <td>0.79</td>\n",
       "      <td>0.74</td>\n",
       "      <td>0.74</td>\n",
       "      <td>1.0</td>\n",
       "      <td>0.74</td>\n",
       "      <td>0.70</td>\n",
       "      <td>...</td>\n",
       "      <td>0.7</td>\n",
       "      <td>0.77</td>\n",
       "      <td>0.65</td>\n",
       "      <td>0.72</td>\n",
       "      <td>0.72</td>\n",
       "      <td>0.0</td>\n",
       "      <td>0.72</td>\n",
       "      <td>0.72</td>\n",
       "      <td>1.0</td>\n",
       "      <td>1.05</td>\n",
       "    </tr>\n",
       "    <tr>\n",
       "      <th>75%</th>\n",
       "      <td>1.2</td>\n",
       "      <td>1.0</td>\n",
       "      <td>1.1</td>\n",
       "      <td>1.05</td>\n",
       "      <td>1.10</td>\n",
       "      <td>1.09</td>\n",
       "      <td>1.09</td>\n",
       "      <td>1.0</td>\n",
       "      <td>1.05</td>\n",
       "      <td>1.02</td>\n",
       "      <td>...</td>\n",
       "      <td>0.7</td>\n",
       "      <td>1.06</td>\n",
       "      <td>0.95</td>\n",
       "      <td>0.72</td>\n",
       "      <td>0.72</td>\n",
       "      <td>0.0</td>\n",
       "      <td>0.72</td>\n",
       "      <td>0.72</td>\n",
       "      <td>1.0</td>\n",
       "      <td>1.05</td>\n",
       "    </tr>\n",
       "    <tr>\n",
       "      <th>max</th>\n",
       "      <td>1.2</td>\n",
       "      <td>1.0</td>\n",
       "      <td>1.1</td>\n",
       "      <td>1.40</td>\n",
       "      <td>1.40</td>\n",
       "      <td>1.09</td>\n",
       "      <td>1.09</td>\n",
       "      <td>1.0</td>\n",
       "      <td>1.41</td>\n",
       "      <td>1.31</td>\n",
       "      <td>...</td>\n",
       "      <td>0.7</td>\n",
       "      <td>1.13</td>\n",
       "      <td>0.95</td>\n",
       "      <td>0.72</td>\n",
       "      <td>0.72</td>\n",
       "      <td>0.0</td>\n",
       "      <td>0.72</td>\n",
       "      <td>0.72</td>\n",
       "      <td>1.0</td>\n",
       "      <td>1.05</td>\n",
       "    </tr>\n",
       "  </tbody>\n",
       "</table>\n",
       "<p>8 rows × 1682 columns</p>\n",
       "</div>"
      ],
      "text/plain": [
       "         1001    1002    1003     1004     1005     1006     1007    1008  \\\n",
       "count  8760.0  8760.0  8760.0  8760.00  8760.00  8760.00  8760.00  8760.0   \n",
       "mean      1.2     1.0     1.1     0.74     0.74     0.71     0.70     1.0   \n",
       "std       0.0     0.0     0.0     0.33     0.33     0.32     0.31     0.0   \n",
       "min       1.2     1.0     1.1     0.32     0.32     0.30     0.30     1.0   \n",
       "25%       1.2     1.0     1.1     0.32     0.32     0.30     0.30     1.0   \n",
       "50%       1.2     1.0     1.1     0.79     0.79     0.74     0.74     1.0   \n",
       "75%       1.2     1.0     1.1     1.05     1.10     1.09     1.09     1.0   \n",
       "max       1.2     1.0     1.1     1.40     1.40     1.09     1.09     1.0   \n",
       "\n",
       "          1009     1010  ...    2673     2674     2675     2676     2677  \\\n",
       "count  8760.00  8760.00  ...  8760.0  8760.00  8760.00  8760.00  8760.00   \n",
       "mean      0.70     0.65  ...     0.7     0.77     0.65     0.72     0.72   \n",
       "std       0.33     0.33  ...     0.0     0.26     0.24     0.00     0.00   \n",
       "min       0.24     0.24  ...     0.7     0.34     0.35     0.72     0.72   \n",
       "25%       0.31     0.24  ...     0.7     0.44     0.35     0.72     0.72   \n",
       "50%       0.74     0.70  ...     0.7     0.77     0.65     0.72     0.72   \n",
       "75%       1.05     1.02  ...     0.7     1.06     0.95     0.72     0.72   \n",
       "max       1.41     1.31  ...     0.7     1.13     0.95     0.72     0.72   \n",
       "\n",
       "         2678     2679     2680    2681     2682  \n",
       "count  8760.0  8760.00  8760.00  8760.0  8760.00  \n",
       "mean      0.0     0.72     0.72     1.0     1.05  \n",
       "std       0.0     0.00     0.00     0.0     0.00  \n",
       "min       0.0     0.72     0.72     1.0     1.05  \n",
       "25%       0.0     0.72     0.72     1.0     1.05  \n",
       "50%       0.0     0.72     0.72     1.0     1.05  \n",
       "75%       0.0     0.72     0.72     1.0     1.05  \n",
       "max       0.0     0.72     0.72     1.0     1.05  \n",
       "\n",
       "[8 rows x 1682 columns]"
      ]
     },
     "execution_count": 13,
     "metadata": {},
     "output_type": "execute_result"
    }
   ],
   "source": [
    "e_price.describe().round(2)"
   ]
  },
  {
   "cell_type": "code",
   "execution_count": 21,
   "id": "cfc9d8c3-45d8-48c6-8d48-54ad275cadfc",
   "metadata": {},
   "outputs": [
    {
     "data": {
      "text/plain": [
       "array(['2022-09-01 00:00:00', 1.2, 1.0, 1.1, 0.32, 0.2962, 0.2442, 0.24,\n",
       "       1.3, 1.28, 1.7, 0.8755, 0.6998, 0.27, 0.298, 0.29, 1.23, 0.737,\n",
       "       0.8, 0.9, 0.72, 0.3, 0.26, 0.34, 1.045, 1.05, 0.28, 0.95, 0.35,\n",
       "       0.7, 0.717, 0.385, 1.25, 0.2655, 0.54, 0.0, 0.25, 1.08, 0.3201,\n",
       "       0.86, 0.73, 0.4, 2.8, 1.8, 1.21, 1.06, 0.237, 0.23, 0.901, 0.5,\n",
       "       0.98, 0.399, 1.15, 0.256, 1.5, 0.75, 0.52, 0.33, 1.04, 0.45, 0.77,\n",
       "       0.69, 0.82, 0.71, 1.33, 0.2485, 0.816, 0.2676, 0.6879, 0.38, 1.03,\n",
       "       1.01, 0.3044, 0.2794, 1.32, 1.18, 0.93, 1.6, 0.938, 0.3094, 0.92,\n",
       "       0.2, 1.036, 0.31, 0.2801, 0.41, 0.2594, 1.14, 0.78, 0.699, 0.4801,\n",
       "       0.76, 0.85, 1.16, 0.96, 0.83, 1.086, 0.79, 0.6999, 0.36, 0.74,\n",
       "       1.35, 0.89, 0.2905, 0.7484, 1.43, 1.34, 1.17, 0.284, 0.3194, 1.24,\n",
       "       1.27, 0.3161, 0.68, 1.199, 0.47, 0.7384, 0.2374, 0.84, 0.88,\n",
       "       0.3405, 1.09, 5.0, 0.2779, 0.703, 0.2587, 0.396, 0.2844, 0.94, 1.4,\n",
       "       0.3962, 0.2938, 0.3618, 0.997, 1.11, 0.81, 0.7699, 0.91, 1.12,\n",
       "       0.42, 0.3594, 0.3179, 0.6, 0.87, 0.2713, 0.902, 0.7031, 0.2921,\n",
       "       0.2381], dtype=object)"
      ]
     },
     "execution_count": 21,
     "metadata": {},
     "output_type": "execute_result"
    }
   ],
   "source": [
    "# are there negative electricity prices?\n",
    "e_price.min().unique()"
   ]
  },
  {
   "cell_type": "code",
   "execution_count": 39,
   "id": "5e965d5f-892b-4fb2-857b-236bd8881114",
   "metadata": {},
   "outputs": [
    {
     "data": {
      "text/plain": [
       "5.0"
      ]
     },
     "execution_count": 39,
     "metadata": {},
     "output_type": "execute_result"
    }
   ],
   "source": [
    "np.max(e_price.iloc[:, 1:])"
   ]
  },
  {
   "cell_type": "code",
   "execution_count": 41,
   "id": "e6a58bdb-8595-4d24-8749-b435bbafeee1",
   "metadata": {},
   "outputs": [
    {
     "data": {
      "text/plain": [
       "['2038']"
      ]
     },
     "execution_count": 41,
     "metadata": {},
     "output_type": "execute_result"
    }
   ],
   "source": [
    "e_price.columns[(e_price == 5.0).any()].tolist() #most expensive electricity price is station 2038, 5 yuan"
   ]
  },
  {
   "cell_type": "code",
   "execution_count": 45,
   "id": "76b20ebd-444b-4dab-8179-04ab65afd90f",
   "metadata": {},
   "outputs": [],
   "source": [
    "e_price_baht = e_price.iloc[:, 1:] * 5.2 #not sure if I need to convert to Baht"
   ]
  },
  {
   "cell_type": "code",
   "execution_count": 47,
   "id": "435ca5c8-ff7f-4a6d-800b-4ae1a94e2f5e",
   "metadata": {},
   "outputs": [],
   "source": [
    "e_price_2038 = e_price[['time', '2038']]"
   ]
  },
  {
   "cell_type": "code",
   "execution_count": 49,
   "id": "98b64eb2-30c7-4d0f-9793-ecd4b099a396",
   "metadata": {},
   "outputs": [
    {
     "data": {
      "image/png": "[encoded data removed]",
      "text/plain": [
       "<Figure size 1000x600 with 1 Axes>"
      ]
     },
     "metadata": {},
     "output_type": "display_data"
    }
   ],
   "source": [
    "plt.figure(figsize=(10, 6)) \n",
    "plt.hist(e_price['2038'], bins=20, edgecolor='black', alpha=0.7) \n",
    "plt.xlabel('Electricity Prices') \n",
    "plt.ylabel('Frequency') \n",
    "plt.title('Histogram of Station 2038 Electricity Prices')\n",
    "plt.show() "
   ]
  },
  {
   "cell_type": "code",
   "execution_count": 51,
   "id": "831a0f32-d1c4-4a74-a8b9-9b8bc47fe5d5",
   "metadata": {},
   "outputs": [
    {
     "data": {
      "text/plain": [
       "array([5.])"
      ]
     },
     "execution_count": 51,
     "metadata": {},
     "output_type": "execute_result"
    }
   ],
   "source": [
    "e_price['2038'].unique()"
   ]
  },
  {
   "cell_type": "code",
   "execution_count": 53,
   "id": "ecc6276b-3bee-4dd6-afa6-371b4b63e3ed",
   "metadata": {},
   "outputs": [
    {
     "data": {
      "text/plain": [
       "0.3069914834620717"
      ]
     },
     "execution_count": 53,
     "metadata": {},
     "output_type": "execute_result"
    }
   ],
   "source": [
    "num_zeros = (e_price == 0).sum().sum()\n",
    "(num_zeros/(e_price.size))*100 #30% of the data is 0 in price. Reasons for zero: idle station, blackout, discontinued use etc. which are information for analysis."
   ]
  },
  {
   "cell_type": "code",
   "execution_count": 55,
   "id": "9fb328a4-d5c2-4ddf-a6fb-008f9a5c7750",
   "metadata": {},
   "outputs": [],
   "source": [
    "e_price_2675 = e_price[['time', '2675']]"
   ]
  },
  {
   "cell_type": "code",
   "execution_count": 61,
   "id": "cf9bd477-40d1-43df-bc43-74afe13a157c",
   "metadata": {},
   "outputs": [
    {
     "data": {
      "image/png": "[encoded data removed]",
      "text/plain": [
       "<Figure size 1000x600 with 1 Axes>"
      ]
     },
     "metadata": {},
     "output_type": "display_data"
    }
   ],
   "source": [
    "plt.figure(figsize=(10, 6)) \n",
    "plt.hist(e_price['2675'], bins=20, edgecolor='black', alpha=0.7) \n",
    "plt.xlabel('Electricity Prices (Yuan) (1 yuan =5.2 Baht)') \n",
    "plt.ylabel('Frequency') \n",
    "plt.title('Histogram of Station 2675 Electricity Prices')\n",
    "plt.show() #electricity prices discrete values"
   ]
  },
  {
   "cell_type": "code",
   "execution_count": 63,
   "id": "ff6eb569-0ad2-4418-9a9c-5f2fc9c60adb",
   "metadata": {},
   "outputs": [
    {
     "data": {
      "image/png": "[encoded data removed]",
      "text/plain": [
       "<Figure size 1000x600 with 1 Axes>"
      ]
     },
     "metadata": {},
     "output_type": "display_data"
    }
   ],
   "source": [
    "plt.figure(figsize=(10, 6)) \n",
    "plt.hist(e_price.iloc[:, 1:], bins=20, edgecolor='black', alpha=0.7) \n",
    "plt.xlabel('Electricity Prices (Yuan) (1 yuan =5.2 Baht)') \n",
    "plt.ylabel('Frequency') \n",
    "plt.title('Histogram of All Stations Electricity Prices')\n",
    "plt.show() #most are under 2 yuan (2* 5.2 = 10.4 baht) "
   ]
  },
  {
   "cell_type": "code",
   "execution_count": null,
   "id": "3e76d4e9-e861-4d90-ba40-bbe04a0b0b76",
   "metadata": {},
   "outputs": [],
   "source": [
    "# Summary, no zeroes were dropped and no outliers were removed as the price data contains important information on the charging station."
   ]
  }
 ],
 "metadata": {
  "kernelspec": {
   "display_name": "Python 3 (ipykernel)",
   "language": "python",
   "name": "python3"
  },
  "language_info": {
   "codemirror_mode": {
    "name": "ipython",
    "version": 3
   },
   "file_extension": ".py",
   "mimetype": "text/x-python",
   "name": "python",
   "nbconvert_exporter": "python",
   "pygments_lexer": "ipython3",
   "version": "3.12.4"
  }
 },
 "nbformat": 4,
 "nbformat_minor": 5
}
